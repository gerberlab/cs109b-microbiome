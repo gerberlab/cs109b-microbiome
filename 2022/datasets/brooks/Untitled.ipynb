{
 "cells": [
  {
   "cell_type": "code",
   "execution_count": 1,
   "id": "2a3c13cc",
   "metadata": {},
   "outputs": [],
   "source": [
    "# ..."
   ]
  },
  {
   "cell_type": "code",
   "execution_count": 3,
   "id": "f58e6509",
   "metadata": {},
   "outputs": [],
   "source": [
    "import pickle\n",
    "import pandas as pd"
   ]
  },
  {
   "cell_type": "code",
   "execution_count": 4,
   "id": "572dfd61",
   "metadata": {},
   "outputs": [
    {
     "name": "stdout",
     "output_type": "stream",
     "text": [
      " Volume in drive C is OS\n",
      " Volume Serial Number is 7CF0-0838\n",
      "\n",
      " Directory of C:\\Users\\guppa\\Dropbox (Partners HealthCare)\\research_bwh\\hms_data_science_course\\main_github_repo\\cs109b-microbiome\\2022\\dataset_tutorials\\datasets\\brooks\n",
      "\n",
      "04/26/2022  09:41 AM    <DIR>          .\n",
      "04/26/2022  09:41 AM    <DIR>          ..\n",
      "04/26/2022  09:41 AM    <DIR>          .ipynb_checkpoints\n",
      "04/20/2022  03:05 PM           462,020 Brooks_dataset_phylo_new.pickle\n",
      "04/26/2022  09:41 AM                72 Untitled.ipynb\n",
      "               2 File(s)        462,092 bytes\n",
      "               3 Dir(s)  43,197,562,880 bytes free\n"
     ]
    }
   ],
   "source": [
    "ls"
   ]
  },
  {
   "cell_type": "code",
   "execution_count": 5,
   "id": "f860411f",
   "metadata": {},
   "outputs": [],
   "source": [
    "brooks_file = \"./Brooks_dataset_phylo_new.pickle\""
   ]
  },
  {
   "cell_type": "code",
   "execution_count": 6,
   "id": "9c4ff8fa",
   "metadata": {},
   "outputs": [],
   "source": [
    "brooks = open(brooks_file, 'rb')"
   ]
  },
  {
   "cell_type": "code",
   "execution_count": 7,
   "id": "2c3eb6bb",
   "metadata": {},
   "outputs": [
    {
     "ename": "ModuleNotFoundError",
     "evalue": "No module named 'ete3'",
     "output_type": "error",
     "traceback": [
      "\u001b[1;31m---------------------------------------------------------------------------\u001b[0m",
      "\u001b[1;31mModuleNotFoundError\u001b[0m                       Traceback (most recent call last)",
      "\u001b[1;32m~\\AppData\\Local\\Temp/ipykernel_13052/1985311223.py\u001b[0m in \u001b[0;36m<module>\u001b[1;34m\u001b[0m\n\u001b[1;32m----> 1\u001b[1;33m \u001b[0mbrooks_data\u001b[0m \u001b[1;33m=\u001b[0m \u001b[0mpickle\u001b[0m\u001b[1;33m.\u001b[0m\u001b[0mload\u001b[0m\u001b[1;33m(\u001b[0m\u001b[0mbrooks\u001b[0m\u001b[1;33m)\u001b[0m\u001b[1;33m\u001b[0m\u001b[1;33m\u001b[0m\u001b[0m\n\u001b[0m",
      "\u001b[1;31mModuleNotFoundError\u001b[0m: No module named 'ete3'"
     ]
    }
   ],
   "source": [
    "brooks_data = pickle.load(brooks)"
   ]
  },
  {
   "cell_type": "code",
   "execution_count": null,
   "id": "b32e7c01",
   "metadata": {},
   "outputs": [],
   "source": []
  }
 ],
 "metadata": {
  "kernelspec": {
   "display_name": "Python 3 (ipykernel)",
   "language": "python",
   "name": "python3"
  },
  "language_info": {
   "codemirror_mode": {
    "name": "ipython",
    "version": 3
   },
   "file_extension": ".py",
   "mimetype": "text/x-python",
   "name": "python",
   "nbconvert_exporter": "python",
   "pygments_lexer": "ipython3",
   "version": "3.8.12"
  }
 },
 "nbformat": 4,
 "nbformat_minor": 5
}
